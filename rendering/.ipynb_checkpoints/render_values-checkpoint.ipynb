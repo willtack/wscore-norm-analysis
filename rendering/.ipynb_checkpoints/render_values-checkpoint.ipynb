{
 "cells": [
  {
   "cell_type": "markdown",
   "id": "93a64c56-16ab-4040-a116-0d9ee737e7e6",
   "metadata": {},
   "source": [
    "## Mean values"
   ]
  },
  {
   "cell_type": "code",
   "execution_count": 25,
   "id": "f32a8198-5307-4793-8daa-5ecf44e93c0a",
   "metadata": {},
   "outputs": [],
   "source": [
    "import os\n",
    "import sys\n",
    "\n",
    "mean_csv_path = \"/home/will/Projects/wscore_norm_analysis/rendering/mean_wscore.csv\"\n",
    "schaefer_scale = 'schaefer200x17'\n",
    "color_scale = 'red-yellow'"
   ]
  },
  {
   "cell_type": "code",
   "execution_count": 26,
   "id": "c6370b45-a2f6-4b06-9513-107cdf6c0c93",
   "metadata": {},
   "outputs": [
    {
     "data": {
      "text/plain": [
       "0"
      ]
     },
     "execution_count": 26,
     "metadata": {},
     "output_type": "execute_result"
    }
   ],
   "source": [
    "mean_txt_path = os.path.splitext(mean_csv_path)[0] + '.txt'\n",
    "# remove middle column (region names) and convert commas to spaces\n",
    "convert_cmd = \"cut -d, -f2 --complement {} | tr ',' ' ' > {}\".format(mean_csv_path, mean_txt_path)\n",
    "os.system(convert_cmd)\n",
    "os.system(\"sed -i '1 d' {}\".format(mean_txt_path)) # ??"
   ]
  },
  {
   "cell_type": "code",
   "execution_count": 27,
   "id": "4c6eab0d-29b8-4de3-a16b-c0454b7c89e0",
   "metadata": {},
   "outputs": [
    {
     "name": "stdout",
     "output_type": "stream",
     "text": [
      "bash -x schaeferTableToFigure.sh -f /home/will/Projects/wscore_norm_analysis/rendering/mean_wscore.txt -r schaefer200x17 -s 1 -h 1.5 -c red-yellow -l -0.4 -k 0\n"
     ]
    },
    {
     "data": {
      "text/plain": [
       "0"
      ]
     },
     "execution_count": 27,
     "metadata": {},
     "output_type": "execute_result"
    }
   ],
   "source": [
    "render_cmd = f\"bash -x schaeferTableToFigure.sh -f {mean_txt_path} -r {schaefer_scale} -s 1 -h 1.5 -c {color_scale} -l -0 -k 0\"\n",
    "print(render_cmd)\n",
    "os.system(render_cmd)"
   ]
  },
  {
   "cell_type": "markdown",
   "id": "658fd5bc-476d-43b5-bbab-95f4ec98649a",
   "metadata": {},
   "source": [
    "## Percentage "
   ]
  },
  {
   "cell_type": "code",
   "execution_count": 9,
   "id": "7adad1d9-8a8a-4476-88ac-18b0a26db316",
   "metadata": {},
   "outputs": [],
   "source": [
    "perc_csv_path = \"/home/will/Projects/wscore_norm_analysis/rendering/percsuprathreshold_wscore.csv\"\n",
    "schaefer_scale = 'schaefer200x17'\n",
    "color_scale = 'red-yellow'"
   ]
  },
  {
   "cell_type": "code",
   "execution_count": 10,
   "id": "13c209c5-561d-42de-8ce6-87b627a3ee82",
   "metadata": {},
   "outputs": [
    {
     "data": {
      "text/plain": [
       "0"
      ]
     },
     "execution_count": 10,
     "metadata": {},
     "output_type": "execute_result"
    }
   ],
   "source": [
    "perc_txt_path = os.path.splitext(perc_csv_path)[0] + '.txt'\n",
    "# remove middle column (region names) and convert commas to spaces\n",
    "convert_cmd = \"cut -d, -f2 --complement {} | tr ',' ' ' > {}\".format(perc_csv_path, perc_txt_path)\n",
    "os.system(convert_cmd)\n",
    "os.system(\"sed -i '1 d' {}\".format(perc_txt_path)) # ??"
   ]
  },
  {
   "cell_type": "code",
   "execution_count": 14,
   "id": "1af27c02-5755-41f7-9f30-90a18d3c3347",
   "metadata": {},
   "outputs": [
    {
     "name": "stdout",
     "output_type": "stream",
     "text": [
      "bash -x schaeferTableToFigure.sh -f /home/will/Projects/wscore_norm_analysis/rendering/percsuprathreshold_wscore.txt -r schaefer200x17 -s 1 -h 40 -c red-yellow -l 0 -k 0\n"
     ]
    },
    {
     "data": {
      "text/plain": [
       "0"
      ]
     },
     "execution_count": 14,
     "metadata": {},
     "output_type": "execute_result"
    }
   ],
   "source": [
    "render_cmd = f\"bash -x schaeferTableToFigure.sh -f {perc_txt_path} -r {schaefer_scale} -s 1 -h 40 -c {color_scale} -l 0 -k 0\"\n",
    "print(render_cmd)\n",
    "os.system(render_cmd)"
   ]
  },
  {
   "cell_type": "code",
   "execution_count": null,
   "id": "30639f31-8f20-4e02-b535-ffef7e434c86",
   "metadata": {},
   "outputs": [],
   "source": []
  }
 ],
 "metadata": {
  "kernelspec": {
   "display_name": "Python 3",
   "language": "python",
   "name": "python3"
  },
  "language_info": {
   "codemirror_mode": {
    "name": "ipython",
    "version": 3
   },
   "file_extension": ".py",
   "mimetype": "text/x-python",
   "name": "python",
   "nbconvert_exporter": "python",
   "pygments_lexer": "ipython3",
   "version": "3.8.8"
  }
 },
 "nbformat": 4,
 "nbformat_minor": 5
}
